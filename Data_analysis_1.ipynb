{
 "cells": [
  {
   "cell_type": "code",
   "execution_count": 14,
   "id": "667dab0f",
   "metadata": {},
   "outputs": [],
   "source": [
    "from bs4 import BeautifulSoup\n",
    "import glob"
   ]
  },
  {
   "cell_type": "code",
   "execution_count": 15,
   "id": "c1f10940",
   "metadata": {},
   "outputs": [],
   "source": [
    "labels=glob.glob('E:\\\\dataset\\\\DataSet-main\\\\DataSet-main\\\\train\\\\labels\\\\*.xml')\n",
    "# *是正则表达式, 表示匹配0个或多个的表达式 这里表示的是全部的xml文件。只要满足前面的条件都是匹配的。glob 是抓取路径文件"
   ]
  },
  {
   "cell_type": "code",
   "execution_count": 16,
   "id": "b918cbf9",
   "metadata": {},
   "outputs": [],
   "source": [
    "gt_label=[\"Airplane\",\"Ship\",\"Vehicle\",\"Basketball Court\",\"Tennis Court\",\"Football field\",\"Baseball field\",\"Intersection\",\"Roundabout\",\"Bridge\"]\n",
    "list_nummers = []\n",
    "for label in labels:\n",
    "    xmlfile=open(label,'r')\n",
    "    xml = xmlfile.read()\n",
    "    list_catagory = []\n",
    "    list_nummer = []\n",
    "    soup = BeautifulSoup(xml, \"xml\")\n",
    "    # soup 就是xml文件中的全部信息\n",
    "    object_list = soup.annotation.objects.find_all('object')\n",
    "    for object in object_list:\n",
    "        # 把name 变成字符串\n",
    "        list_catagory.append(object.possibleresult.find('name').string)\n",
    "    list_catagory.count(object.possibleresult.find('name').string)\n",
    "    for gt in gt_label:\n",
    "        list_nummer.append(list_catagory.count(gt))\n",
    "    list_nummers.append(list_nummer)"
   ]
  },
  {
   "cell_type": "code",
   "execution_count": 17,
   "id": "4f4fdc87",
   "metadata": {},
   "outputs": [
    {
     "name": "stdout",
     "output_type": "stream",
     "text": [
      "[[0, 0, 36, 0, 0, 0, 0, 2, 0, 0], [0, 0, 3, 0, 0, 0, 0, 0, 0, 0], [0, 2, 0, 0, 0, 0, 0, 0, 0, 0], [2, 0, 0, 0, 0, 0, 0, 0, 0, 0], [0, 0, 6, 0, 0, 0, 0, 0, 0, 0], [0, 3, 0, 0, 0, 0, 0, 0, 0, 0], [1, 0, 0, 0, 0, 0, 0, 0, 0, 0], [0, 0, 0, 0, 0, 0, 0, 5, 0, 0], [0, 0, 30, 0, 0, 0, 0, 0, 0, 0], [0, 0, 48, 0, 0, 0, 0, 0, 0, 0], [0, 5, 0, 0, 0, 0, 0, 0, 0, 0], [0, 0, 80, 0, 0, 0, 0, 0, 0, 0], [0, 0, 53, 0, 0, 0, 0, 1, 0, 0], [0, 0, 32, 0, 0, 0, 0, 0, 0, 0], [0, 1, 0, 0, 0, 0, 0, 0, 0, 0], [1, 0, 0, 0, 0, 0, 0, 0, 0, 0], [2, 0, 0, 0, 0, 0, 0, 0, 0, 0], [7, 0, 0, 0, 0, 0, 0, 0, 0, 0], [0, 9, 0, 0, 0, 0, 0, 0, 0, 0], [0, 7, 0, 0, 0, 0, 0, 0, 0, 2], [0, 0, 4, 0, 0, 0, 0, 0, 0, 0], [0, 0, 72, 1, 0, 0, 0, 0, 0, 0], [0, 1, 9, 0, 0, 0, 0, 0, 0, 0], [0, 0, 226, 0, 0, 0, 0, 0, 0, 0], [0, 0, 23, 0, 0, 0, 0, 1, 0, 0], [0, 2, 0, 0, 0, 0, 0, 0, 0, 0], [0, 1, 0, 0, 0, 0, 0, 0, 0, 0], [4, 0, 0, 0, 0, 0, 0, 0, 0, 0], [2, 0, 0, 0, 0, 0, 0, 0, 0, 0], [0, 0, 3, 0, 8, 0, 0, 0, 0, 0], [2, 0, 0, 0, 0, 0, 0, 0, 0, 0], [0, 2, 0, 0, 0, 0, 0, 0, 0, 0], [4, 0, 0, 0, 0, 0, 0, 0, 0, 0], [0, 1, 0, 0, 0, 0, 0, 0, 0, 0], [0, 0, 11, 0, 0, 0, 0, 1, 0, 0], [4, 0, 0, 1, 0, 0, 0, 0, 0, 0], [0, 0, 95, 0, 0, 0, 0, 1, 0, 0], [0, 0, 41, 0, 0, 0, 0, 1, 0, 0], [0, 2, 0, 0, 0, 0, 0, 0, 0, 0], [0, 15, 0, 0, 0, 0, 0, 0, 0, 0], [1, 0, 0, 0, 0, 0, 0, 0, 0, 0]]\n"
     ]
    }
   ],
   "source": [
    "print(list_nummers)"
   ]
  },
  {
   "cell_type": "code",
   "execution_count": null,
   "id": "ac5b07f1",
   "metadata": {},
   "outputs": [],
   "source": []
  }
 ],
 "metadata": {
  "kernelspec": {
   "display_name": "Python 3 (ipykernel)",
   "language": "python",
   "name": "python3"
  },
  "language_info": {
   "codemirror_mode": {
    "name": "ipython",
    "version": 3
   },
   "file_extension": ".py",
   "mimetype": "text/x-python",
   "name": "python",
   "nbconvert_exporter": "python",
   "pygments_lexer": "ipython3",
   "version": "3.9.12"
  }
 },
 "nbformat": 4,
 "nbformat_minor": 5
}
